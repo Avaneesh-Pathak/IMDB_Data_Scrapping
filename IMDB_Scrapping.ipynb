{
 "cells": [
  {
   "cell_type": "code",
   "execution_count": null,
   "id": "6cc88513",
   "metadata": {},
   "outputs": [],
   "source": [
    "from bs4 import BeautifulSoup\n",
    "import requests\n"
   ]
  },
  {
   "cell_type": "code",
   "execution_count": null,
   "id": "874d01e4",
   "metadata": {},
   "outputs": [],
   "source": [
    "!pip install openpyxl\n",
    "import openpyxl\n",
    "\n",
    "\n",
    "excel = openpyxl.Workbook()\n",
    "sheet = excel.active\n",
    "sheet.title = 'Top Rated Movies'\n",
    "\n",
    "sheet.append(['Movie Rank','Movie Name','Year Of Release', 'IMDB Rating'])\n",
    "\n"
   ]
  },
  {
   "cell_type": "code",
   "execution_count": null,
   "id": "53ad16fd",
   "metadata": {},
   "outputs": [],
   "source": [
    "excel = openpyxl.Workbook()\n",
    "sheet = excel.active\n",
    "sheet.title = 'Top Rated Movies'\n",
    "\n",
    "sheet.append(['Movie Rank','Movie Name','Year Of Release', 'IMDB Rating'])\n",
    "\n",
    "try:\n",
    "    source = requests.get(\"https://www.imdb.com/chart/top/\")\n",
    "    source.raise_for_status()\n",
    "    soup = BeautifulSoup(source.text,'html.parser')\n",
    "    \n",
    "    movies = soup.find('tbody',class_=\"lister-list\").find_all('tr')\n",
    "    \n",
    "    for movie in movies:\n",
    "        \n",
    "        name=movie.find('td',class_='titleColumn').a.text\n",
    "        \n",
    "        rank=movie.find('td',class_='titleColumn').get_text(strip=True).split('.')[0]\n",
    "        \n",
    "        year = movie.find('td',class_='titleColumn').span.text.strip('()')\n",
    "        \n",
    "        rating = movie.find('td',class_='ratingColumn imdbRating').strong.text\n",
    "        print(rank,name,year,rating)\n",
    "        sheet.append([rank,name,year,rating])\n",
    "        \n",
    "\n",
    "except Exception as e:\n",
    "    print(e)\n",
    "    \n",
    "\n",
    "excel.save('IMDB Movie Ratings.xlsx')\n",
    "    \n",
    "    \n",
    "    \n",
    "    \n"
   ]
  }
 ],
 "metadata": {
  "kernelspec": {
   "display_name": "Python 3 (ipykernel)",
   "language": "python",
   "name": "python3"
  },
  "language_info": {
   "codemirror_mode": {
    "name": "ipython",
    "version": 3
   },
   "file_extension": ".py",
   "mimetype": "text/x-python",
   "name": "python",
   "nbconvert_exporter": "python",
   "pygments_lexer": "ipython3",
   "version": "3.11.2"
  }
 },
 "nbformat": 4,
 "nbformat_minor": 5
}
